{
 "cells": [
  {
   "cell_type": "code",
   "execution_count": 21,
   "id": "f7072bb4",
   "metadata": {},
   "outputs": [
    {
     "name": "stdout",
     "output_type": "stream",
     "text": [
      "Requirement already satisfied: openai in c:\\users\\yraj\\appdata\\local\\miniconda3\\envs\\pysprk\\lib\\site-packages (0.27.8)\n",
      "Requirement already satisfied: requests>=2.20 in c:\\users\\yraj\\appdata\\local\\miniconda3\\envs\\pysprk\\lib\\site-packages (from openai) (2.31.0)\n",
      "Requirement already satisfied: tqdm in c:\\users\\yraj\\appdata\\local\\miniconda3\\envs\\pysprk\\lib\\site-packages (from openai) (4.65.0)\n",
      "Requirement already satisfied: aiohttp in c:\\users\\yraj\\appdata\\local\\miniconda3\\envs\\pysprk\\lib\\site-packages (from openai) (3.8.4)\n",
      "Requirement already satisfied: charset-normalizer<4,>=2 in c:\\users\\yraj\\appdata\\local\\miniconda3\\envs\\pysprk\\lib\\site-packages (from requests>=2.20->openai) (3.1.0)\n",
      "Requirement already satisfied: idna<4,>=2.5 in c:\\users\\yraj\\appdata\\local\\miniconda3\\envs\\pysprk\\lib\\site-packages (from requests>=2.20->openai) (3.4)\n",
      "Requirement already satisfied: urllib3<3,>=1.21.1 in c:\\users\\yraj\\appdata\\local\\miniconda3\\envs\\pysprk\\lib\\site-packages (from requests>=2.20->openai) (1.26.16)\n",
      "Requirement already satisfied: certifi>=2017.4.17 in c:\\users\\yraj\\appdata\\local\\miniconda3\\envs\\pysprk\\lib\\site-packages (from requests>=2.20->openai) (2023.5.7)\n",
      "Requirement already satisfied: attrs>=17.3.0 in c:\\users\\yraj\\appdata\\local\\miniconda3\\envs\\pysprk\\lib\\site-packages (from aiohttp->openai) (23.1.0)\n",
      "Requirement already satisfied: multidict<7.0,>=4.5 in c:\\users\\yraj\\appdata\\local\\miniconda3\\envs\\pysprk\\lib\\site-packages (from aiohttp->openai) (6.0.4)\n",
      "Requirement already satisfied: async-timeout<5.0,>=4.0.0a3 in c:\\users\\yraj\\appdata\\local\\miniconda3\\envs\\pysprk\\lib\\site-packages (from aiohttp->openai) (4.0.2)\n",
      "Requirement already satisfied: yarl<2.0,>=1.0 in c:\\users\\yraj\\appdata\\local\\miniconda3\\envs\\pysprk\\lib\\site-packages (from aiohttp->openai) (1.9.2)\n",
      "Requirement already satisfied: frozenlist>=1.1.1 in c:\\users\\yraj\\appdata\\local\\miniconda3\\envs\\pysprk\\lib\\site-packages (from aiohttp->openai) (1.3.3)\n",
      "Requirement already satisfied: aiosignal>=1.1.2 in c:\\users\\yraj\\appdata\\local\\miniconda3\\envs\\pysprk\\lib\\site-packages (from aiohttp->openai) (1.3.1)\n",
      "Requirement already satisfied: colorama in c:\\users\\yraj\\appdata\\local\\miniconda3\\envs\\pysprk\\lib\\site-packages (from tqdm->openai) (0.4.6)\n"
     ]
    },
    {
     "name": "stderr",
     "output_type": "stream",
     "text": [
      "WARNING: Ignoring invalid distribution -yspark (c:\\users\\yraj\\appdata\\local\\miniconda3\\envs\\pysprk\\lib\\site-packages)\n",
      "WARNING: Ignoring invalid distribution -yspark (c:\\users\\yraj\\appdata\\local\\miniconda3\\envs\\pysprk\\lib\\site-packages)\n"
     ]
    }
   ],
   "source": [
    "!pip install --upgrade openai"
   ]
  },
  {
   "cell_type": "markdown",
   "id": "e6891dcb",
   "metadata": {},
   "source": [
    "### Importing Libraries"
   ]
  },
  {
   "cell_type": "code",
   "execution_count": 1,
   "id": "997d2727",
   "metadata": {},
   "outputs": [],
   "source": [
    "# importing mlflow library\n",
    "import mlflow\n",
    "import pandas as pd\n",
    "import numpy as np\n",
    "import time\n",
    "import openai"
   ]
  },
  {
   "cell_type": "code",
   "execution_count": 2,
   "id": "f362e133",
   "metadata": {},
   "outputs": [],
   "source": [
    "from include.env_values import *\n",
    "# setting up environment\n",
    "os.environ[\"OPENAI_API_KEY\"] = openai_api_key\n",
    "with open('./include/config.json') as file:\n",
    "    config = json.load(file)"
   ]
  },
  {
   "cell_type": "code",
   "execution_count": 3,
   "id": "596c2ce0",
   "metadata": {},
   "outputs": [],
   "source": [
    "from include.ade_classifier import ADE_Classifier\n",
    "from include.utils import *"
   ]
  },
  {
   "cell_type": "markdown",
   "id": "36c473c3",
   "metadata": {},
   "source": [
    "### Testing our Model"
   ]
  },
  {
   "cell_type": "code",
   "execution_count": 4,
   "id": "89759573",
   "metadata": {},
   "outputs": [],
   "source": [
    "# instantiating 'utility' class for getting llm, retriever, chat_prompt\n",
    "utils = Utils()"
   ]
  },
  {
   "cell_type": "code",
   "execution_count": 5,
   "id": "47885ddf",
   "metadata": {},
   "outputs": [
    {
     "name": "stderr",
     "output_type": "stream",
     "text": [
      "C:\\Users\\yraj\\AppData\\Local\\miniconda3\\envs\\pysprk\\lib\\site-packages\\tqdm\\auto.py:21: TqdmWarning: IProgress not found. Please update jupyter and ipywidgets. See https://ipywidgets.readthedocs.io/en/stable/user_install.html\n",
      "  from .autonotebook import tqdm as notebook_tqdm\n"
     ]
    }
   ],
   "source": [
    "# instantiaing classifier\n",
    "ade_classifier = ADE_Classifier(llm=utils.get_llm(), retriever=utils.get_retriever(), prompt=utils.get_prompt())"
   ]
  },
  {
   "cell_type": "code",
   "execution_count": 9,
   "id": "88bac468",
   "metadata": {},
   "outputs": [],
   "source": [
    "# answer = ade_classifier.get_class('The induction of hypoglycaemia with PAS in this patient suggests a potential role for PAS in the treatment of diabetes mellitus.')\n",
    "answer = ade_classifier.get_class(test['prompt'][1])"
   ]
  },
  {
   "cell_type": "code",
   "execution_count": 10,
   "id": "8d6ac603",
   "metadata": {},
   "outputs": [
    {
     "name": "stdout",
     "output_type": "stream",
     "text": [
      "{'generated_output': \"The predicted nature for the last statement is: 'not_ADE'\"}\n"
     ]
    }
   ],
   "source": [
    "print(answer)"
   ]
  },
  {
   "cell_type": "markdown",
   "id": "6e6cc38c",
   "metadata": {},
   "source": [
    "## Registering Model to MlFlow"
   ]
  },
  {
   "cell_type": "markdown",
   "id": "b803543f",
   "metadata": {},
   "source": [
    "# Few-Shot Encoding"
   ]
  },
  {
   "cell_type": "code",
   "execution_count": 14,
   "id": "5f4ae9f3",
   "metadata": {},
   "outputs": [],
   "source": [
    "# setting mlflow experitment\n",
    "_ = mlflow.set_experiment(f\"{config['base_path']}\\\\ade_llm_classifier\")"
   ]
  },
  {
   "cell_type": "markdown",
   "id": "ec83a348",
   "metadata": {},
   "source": [
    "#### Define MLflow Wrapper for Model"
   ]
  },
  {
   "cell_type": "code",
   "execution_count": 15,
   "id": "309c5f18",
   "metadata": {},
   "outputs": [],
   "source": [
    "class MLflowADEClassifier(mlflow.pyfunc.PythonModel):\n",
    "    def __init__(self, llm, retriever, prompt):\n",
    "        self.ade_classifier = ADE_Classifier(llm, retriever, prompt)\n",
    "    \n",
    "    def predict(self, context, input):\n",
    "        statement = str(input[\"statement\"])\n",
    "        \n",
    "        # return class\n",
    "        return self.ade_classifier.get_class(statement)"
   ]
  },
  {
   "cell_type": "markdown",
   "id": "6bf89887",
   "metadata": {},
   "source": [
    "#### Persist Model to MLflow"
   ]
  },
  {
   "cell_type": "code",
   "execution_count": 16,
   "id": "1fa67d57",
   "metadata": {},
   "outputs": [],
   "source": [
    "# instantiate mlflow model\n",
    "model = MLflowADEClassifier(llm=utils.get_llm(), retriever=utils.get_retriever(), prompt=utils.get_prompt())"
   ]
  },
  {
   "cell_type": "code",
   "execution_count": 17,
   "id": "d36bf718",
   "metadata": {},
   "outputs": [
    {
     "name": "stderr",
     "output_type": "stream",
     "text": [
      "2023/07/06 12:55:41 WARNING mlflow.utils.git_utils: Failed to import Git (the Git executable is probably not on your PATH), so Git SHA is not available. Error: Failed to initialize: Bad git executable.\n",
      "The git executable must be specified in one of the following ways:\n",
      "    - be included in your $PATH\n",
      "    - be set via $GIT_PYTHON_GIT_EXECUTABLE\n",
      "    - explicitly set via git.refresh()\n",
      "\n",
      "All git commands will error until this is rectified.\n",
      "\n",
      "This initial warning can be silenced or aggravated in the future by setting the\n",
      "$GIT_PYTHON_REFRESH environment variable. Use one of the following values:\n",
      "    - quiet|q|silence|s|none|n|0: for no warning or exception\n",
      "    - warn|w|warning|1: for a printed warning\n",
      "    - error|e|raise|r|2: for a raised exception\n",
      "\n",
      "Example:\n",
      "    export GIT_PYTHON_REFRESH=quiet\n",
      "\n",
      "C:\\Users\\yraj\\AppData\\Local\\miniconda3\\envs\\pysprk\\lib\\site-packages\\_distutils_hack\\__init__.py:33: UserWarning: Setuptools is replacing distutils.\n",
      "  warnings.warn(\"Setuptools is replacing distutils.\")\n",
      "Registered model 'ade_llm_classifier' already exists. Creating a new version of this model...\n",
      "2023/07/06 12:56:02 INFO mlflow.tracking._model_registry.client: Waiting up to 300 seconds for model version to finish creation. Model name: ade_llm_classifier, version 2\n",
      "Created version '2' of model 'ade_llm_classifier'.\n"
     ]
    }
   ],
   "source": [
    "# persist model to mlflow\n",
    "with mlflow.start_run():\n",
    "  _ = (\n",
    "    mlflow.pyfunc.log_model(\n",
    "      python_model=model,\n",
    "      extra_pip_requirements=['langchain==0.0.166', 'tiktoken==0.4.0', 'openai==0.27.6', 'faiss-cpu==1.7.4', 'typing-inspect==0.8.0', 'typing_extensions==4.5.0'],\n",
    "      artifact_path='model',\n",
    "      registered_model_name='ade_llm_classifier'\n",
    "      )\n",
    "    )"
   ]
  },
  {
   "cell_type": "markdown",
   "id": "704d9432",
   "metadata": {},
   "source": [
    "#### Elevate Model to Production Status"
   ]
  },
  {
   "cell_type": "code",
   "execution_count": 18,
   "id": "4245392b",
   "metadata": {},
   "outputs": [
    {
     "data": {
      "text/plain": [
       "<ModelVersion: aliases=[], creation_timestamp=1688628361935, current_stage='Production', description=None, last_updated_timestamp=1688628362115, name='ade_llm_classifier', run_id='b502be00d75a42fc812089a9b0107ed2', run_link=None, source='file:///C:/Users/yraj/Work/POCs/Drugs%20%26%20Adverse%20Events/mlruns/928637442989638884/b502be00d75a42fc812089a9b0107ed2/artifacts/model', status='READY', status_message=None, tags={}, user_id=None, version=2>"
      ]
     },
     "execution_count": 18,
     "metadata": {},
     "output_type": "execute_result"
    }
   ],
   "source": [
    "# connect to mlflow \n",
    "client = mlflow.MlflowClient()\n",
    " \n",
    "# identify latest model version\n",
    "latest_version = client.get_latest_versions('ade_llm_classifier', stages=['None'])[0].version\n",
    " \n",
    "# move model into production\n",
    "client.transition_model_version_stage(\n",
    "    name='ade_llm_classifier',\n",
    "    version=latest_version,\n",
    "    stage='Production',\n",
    "    archive_existing_versions=True\n",
    ")"
   ]
  },
  {
   "cell_type": "markdown",
   "id": "40251732",
   "metadata": {},
   "source": [
    "#### Test Model"
   ]
  },
  {
   "cell_type": "code",
   "execution_count": 15,
   "id": "519c0980",
   "metadata": {
    "scrolled": true
   },
   "outputs": [
    {
     "name": "stderr",
     "output_type": "stream",
     "text": [
      "2023/07/10 09:04:30 WARNING mlflow.pyfunc: Detected one or more mismatches between the model's dependencies and the current Python environment:\n",
      " - mlflow (current: 2.4.1, required: mlflow==2.4)\n",
      " - openai (current: 0.27.8, required: openai==0.27.6)\n",
      " - openai (current: 0.27.8, required: openai==0.27.6)\n",
      "To fix the mismatches, call `mlflow.pyfunc.get_model_dependencies(model_uri)` to fetch the model's environment and install dependencies using the resulting environment file.\n"
     ]
    }
   ],
   "source": [
    "# retrieve model from mlflow\n",
    "model = mlflow.pyfunc.load_model(f\"models:/ade_llm_classifier/Production\")"
   ]
  },
  {
   "cell_type": "code",
   "execution_count": null,
   "id": "b64d7bc9",
   "metadata": {},
   "outputs": [],
   "source": [
    "# model_uri = f\"models:/{config['registered_model_name']}/Production\"\n",
    "# requirements_path = mlflow.pyfunc.get_model_dependencies(model_uri)\n",
    "# %pip install -r $requirements_path"
   ]
  },
  {
   "cell_type": "code",
   "execution_count": 132,
   "id": "9eb546b3",
   "metadata": {},
   "outputs": [],
   "source": [
    "text = \"Echocardiogram showed normal left ventricular systolic function with mild mitral and tricuspid regurgitation and trace aortic insufficiency.\""
   ]
  },
  {
   "cell_type": "code",
   "execution_count": 11,
   "id": "8c08f585",
   "metadata": {},
   "outputs": [],
   "source": [
    "# assemble statement input\n",
    "statement = pd.DataFrame({'statement':[\n",
    "  f'{text}'\n",
    "]})\n",
    "# get response \n",
    "model.predict(statement)"
   ]
  },
  {
   "cell_type": "code",
   "execution_count": 10,
   "id": "5f63d97c",
   "metadata": {},
   "outputs": [
    {
     "data": {
      "text/html": [
       "<div>\n",
       "<style scoped>\n",
       "    .dataframe tbody tr th:only-of-type {\n",
       "        vertical-align: middle;\n",
       "    }\n",
       "\n",
       "    .dataframe tbody tr th {\n",
       "        vertical-align: top;\n",
       "    }\n",
       "\n",
       "    .dataframe thead th {\n",
       "        text-align: right;\n",
       "    }\n",
       "</style>\n",
       "<table border=\"1\" class=\"dataframe\">\n",
       "  <thead>\n",
       "    <tr style=\"text-align: right;\">\n",
       "      <th></th>\n",
       "      <th>statement</th>\n",
       "    </tr>\n",
       "  </thead>\n",
       "  <tbody>\n",
       "    <tr>\n",
       "      <th>0</th>\n",
       "      <td>Measured 25-hydroxyvitamin D (25-OH D) levels...</td>\n",
       "    </tr>\n",
       "  </tbody>\n",
       "</table>\n",
       "</div>"
      ],
      "text/plain": [
       "                                           statement\n",
       "0   Measured 25-hydroxyvitamin D (25-OH D) levels..."
      ]
     },
     "execution_count": 10,
     "metadata": {},
     "output_type": "execute_result"
    }
   ],
   "source": [
    "\n",
    "statement = pd.DataFrame({'statement':[\n",
    "  f\"{test['prompt'][1]}\"\n",
    "]})\n",
    "statement"
   ]
  },
  {
   "cell_type": "markdown",
   "id": "bdd8d925",
   "metadata": {},
   "source": [
    "#### Seeing MLflow UI"
   ]
  },
  {
   "cell_type": "code",
   "execution_count": null,
   "id": "808a4116",
   "metadata": {},
   "outputs": [],
   "source": [
    "!mlflow ui"
   ]
  },
  {
   "cell_type": "markdown",
   "id": "8bd0f1d9",
   "metadata": {},
   "source": [
    "open this url http://localhost:5000/ to see the mlflow ui"
   ]
  },
  {
   "cell_type": "markdown",
   "id": "b670888d",
   "metadata": {},
   "source": [
    "### Performance"
   ]
  },
  {
   "cell_type": "code",
   "execution_count": 1,
   "id": "5e37adbf",
   "metadata": {},
   "outputs": [],
   "source": [
    "spark = SparkSession.builder.getOrCreate()"
   ]
  },
  {
   "cell_type": "code",
   "execution_count": 2,
   "id": "7223e02b",
   "metadata": {
    "scrolled": true
   },
   "outputs": [
    {
     "data": {
      "text/html": [
       "\n",
       "            <div>\n",
       "                <p><b>SparkSession - hive</b></p>\n",
       "                \n",
       "        <div>\n",
       "            <p><b>SparkContext</b></p>\n",
       "\n",
       "            <p><a href=\"http://INGNONB65617.insight.com:4041\">Spark UI</a></p>\n",
       "\n",
       "            <dl>\n",
       "              <dt>Version</dt>\n",
       "                <dd><code>v3.2.4</code></dd>\n",
       "              <dt>Master</dt>\n",
       "                <dd><code>local[*]</code></dd>\n",
       "              <dt>AppName</dt>\n",
       "                <dd><code>PySparkShell</code></dd>\n",
       "            </dl>\n",
       "        </div>\n",
       "        \n",
       "            </div>\n",
       "        "
      ],
      "text/plain": [
       "<pyspark.sql.session.SparkSession at 0x251e78462f0>"
      ]
     },
     "execution_count": 2,
     "metadata": {},
     "output_type": "execute_result"
    }
   ],
   "source": [
    "spark"
   ]
  },
  {
   "cell_type": "code",
   "execution_count": 22,
   "id": "e16b9d0b",
   "metadata": {},
   "outputs": [],
   "source": [
    "import pyspark.sql.functions as F"
   ]
  },
  {
   "cell_type": "code",
   "execution_count": 104,
   "id": "552adabd",
   "metadata": {},
   "outputs": [],
   "source": [
    "test_df = spark.read.format('delta').load(f\"{config['delta_path']}\\\\silver\\\\test_data\")"
   ]
  },
  {
   "cell_type": "code",
   "execution_count": 105,
   "id": "2fd0bf9e",
   "metadata": {},
   "outputs": [],
   "source": [
    "test_df = test_df.select('*').filter(\"is_ADE==True\").limit(20).union(test_df.select('*').filter(\"is_ADE==False\").limit(80))"
   ]
  },
  {
   "cell_type": "code",
   "execution_count": 106,
   "id": "8f5c5885",
   "metadata": {},
   "outputs": [],
   "source": [
    "test_df = test_df.orderBy(F.rand())"
   ]
  },
  {
   "cell_type": "code",
   "execution_count": 107,
   "id": "226e0f0a",
   "metadata": {},
   "outputs": [
    {
     "data": {
      "text/plain": [
       "100"
      ]
     },
     "execution_count": 107,
     "metadata": {},
     "output_type": "execute_result"
    }
   ],
   "source": [
    "test_df.count()"
   ]
  },
  {
   "cell_type": "code",
   "execution_count": 108,
   "id": "0bb70205",
   "metadata": {},
   "outputs": [
    {
     "name": "stdout",
     "output_type": "stream",
     "text": [
      "+--------------------+------+\n",
      "|                text|is_ADE|\n",
      "+--------------------+------+\n",
      "|Intravitreal tria...|  true|\n",
      "| It has been desc...| false|\n",
      "| Within twelve ho...| false|\n",
      "|Celiprolol pneumo...|  true|\n",
      "| Echocardiogram s...| false|\n",
      "| The Jarisch-Herx...| false|\n",
      "| A prolonged and ...| false|\n",
      "|   Gold nephropathy.|  true|\n",
      "| The IgA was norm...| false|\n",
      "| Preoperative che...| false|\n",
      "| During a period ...| false|\n",
      "|Case 2 demonstrat...|  true|\n",
      "| This 4-year-6-mo...| false|\n",
      "| CONCLUSIONS: Pro...| false|\n",
      "|This report descr...|  true|\n",
      "| Vitamin B12 (cya...| false|\n",
      "| A 57-year-old ma...| false|\n",
      "| Continuous irreg...| false|\n",
      "|CONCLUSIONS: SD-O...|  true|\n",
      "| Intrathecal admi...| false|\n",
      "+--------------------+------+\n",
      "only showing top 20 rows\n",
      "\n"
     ]
    }
   ],
   "source": [
    "test_df.show()"
   ]
  },
  {
   "cell_type": "code",
   "execution_count": 109,
   "id": "7dc0fbfc",
   "metadata": {},
   "outputs": [],
   "source": [
    "test_df = test_df.withColumn('is_ADE', F.when(F.col('is_ADE')=='true', 1).otherwise(0)).selectExpr('text as statement', 'is_ADE')"
   ]
  },
  {
   "cell_type": "code",
   "execution_count": 110,
   "id": "d2cba5ae",
   "metadata": {},
   "outputs": [
    {
     "name": "stdout",
     "output_type": "stream",
     "text": [
      "+--------------------+------+\n",
      "|           statement|is_ADE|\n",
      "+--------------------+------+\n",
      "|Intravitreal tria...|     1|\n",
      "| It has been desc...|     0|\n",
      "| Within twelve ho...|     0|\n",
      "|Celiprolol pneumo...|     1|\n",
      "| Echocardiogram s...|     0|\n",
      "| The Jarisch-Herx...|     0|\n",
      "| A prolonged and ...|     0|\n",
      "|   Gold nephropathy.|     1|\n",
      "| The IgA was norm...|     0|\n",
      "| Preoperative che...|     0|\n",
      "| During a period ...|     0|\n",
      "|Case 2 demonstrat...|     1|\n",
      "| This 4-year-6-mo...|     0|\n",
      "| CONCLUSIONS: Pro...|     0|\n",
      "|This report descr...|     1|\n",
      "| Vitamin B12 (cya...|     0|\n",
      "| A 57-year-old ma...|     0|\n",
      "| Continuous irreg...|     0|\n",
      "|CONCLUSIONS: SD-O...|     1|\n",
      "| Intrathecal admi...|     0|\n",
      "+--------------------+------+\n",
      "only showing top 20 rows\n",
      "\n"
     ]
    }
   ],
   "source": [
    "test_df.show()"
   ]
  },
  {
   "cell_type": "code",
   "execution_count": 111,
   "id": "daaee5e7",
   "metadata": {},
   "outputs": [],
   "source": [
    "# converting our pyspark dataframe to pandas dataframe\n",
    "test_pd_df = test_df.toPandas()"
   ]
  },
  {
   "cell_type": "code",
   "execution_count": 113,
   "id": "6b41919a",
   "metadata": {
    "scrolled": true
   },
   "outputs": [
    {
     "data": {
      "text/html": [
       "<div>\n",
       "<style scoped>\n",
       "    .dataframe tbody tr th:only-of-type {\n",
       "        vertical-align: middle;\n",
       "    }\n",
       "\n",
       "    .dataframe tbody tr th {\n",
       "        vertical-align: top;\n",
       "    }\n",
       "\n",
       "    .dataframe thead th {\n",
       "        text-align: right;\n",
       "    }\n",
       "</style>\n",
       "<table border=\"1\" class=\"dataframe\">\n",
       "  <thead>\n",
       "    <tr style=\"text-align: right;\">\n",
       "      <th></th>\n",
       "      <th>statement</th>\n",
       "      <th>is_ADE</th>\n",
       "    </tr>\n",
       "  </thead>\n",
       "  <tbody>\n",
       "    <tr>\n",
       "      <th>0</th>\n",
       "      <td>Intravitreal triamcinolone may have had an inf...</td>\n",
       "      <td>1</td>\n",
       "    </tr>\n",
       "    <tr>\n",
       "      <th>1</th>\n",
       "      <td>It has been described most recently in patien...</td>\n",
       "      <td>0</td>\n",
       "    </tr>\n",
       "    <tr>\n",
       "      <th>2</th>\n",
       "      <td>Within twelve hours, his clinical state was s...</td>\n",
       "      <td>0</td>\n",
       "    </tr>\n",
       "    <tr>\n",
       "      <th>3</th>\n",
       "      <td>Celiprolol pneumonitis.</td>\n",
       "      <td>1</td>\n",
       "    </tr>\n",
       "    <tr>\n",
       "      <th>4</th>\n",
       "      <td>Echocardiogram showed normal left ventricular...</td>\n",
       "      <td>0</td>\n",
       "    </tr>\n",
       "  </tbody>\n",
       "</table>\n",
       "</div>"
      ],
      "text/plain": [
       "                                           statement  is_ADE\n",
       "0  Intravitreal triamcinolone may have had an inf...       1\n",
       "1   It has been described most recently in patien...       0\n",
       "2   Within twelve hours, his clinical state was s...       0\n",
       "3                            Celiprolol pneumonitis.       1\n",
       "4   Echocardiogram showed normal left ventricular...       0"
      ]
     },
     "execution_count": 113,
     "metadata": {},
     "output_type": "execute_result"
    }
   ],
   "source": [
    "df = test_pd_df[:5]\n",
    "df"
   ]
  },
  {
   "cell_type": "code",
   "execution_count": 114,
   "id": "5a2a35c5",
   "metadata": {},
   "outputs": [
    {
     "name": "stderr",
     "output_type": "stream",
     "text": [
      "C:\\Users\\yraj\\AppData\\Local\\Temp\\ipykernel_19528\\2907575497.py:6: SettingWithCopyWarning: \n",
      "A value is trying to be set on a copy of a slice from a DataFrame.\n",
      "Try using .loc[row_indexer,col_indexer] = value instead\n",
      "\n",
      "See the caveats in the documentation: https://pandas.pydata.org/pandas-docs/stable/user_guide/indexing.html#returning-a-view-versus-a-copy\n",
      "  df['predicted-is_ADE'] = 0\n",
      "C:\\Users\\yraj\\AppData\\Local\\Temp\\ipykernel_19528\\2907575497.py:6: SettingWithCopyWarning: \n",
      "A value is trying to be set on a copy of a slice from a DataFrame.\n",
      "Try using .loc[row_indexer,col_indexer] = value instead\n",
      "\n",
      "See the caveats in the documentation: https://pandas.pydata.org/pandas-docs/stable/user_guide/indexing.html#returning-a-view-versus-a-copy\n",
      "  df['predicted-is_ADE'] = 0\n",
      "C:\\Users\\yraj\\AppData\\Local\\Temp\\ipykernel_19528\\2907575497.py:6: SettingWithCopyWarning: \n",
      "A value is trying to be set on a copy of a slice from a DataFrame.\n",
      "Try using .loc[row_indexer,col_indexer] = value instead\n",
      "\n",
      "See the caveats in the documentation: https://pandas.pydata.org/pandas-docs/stable/user_guide/indexing.html#returning-a-view-versus-a-copy\n",
      "  df['predicted-is_ADE'] = 0\n",
      "C:\\Users\\yraj\\AppData\\Local\\Temp\\ipykernel_19528\\2907575497.py:6: SettingWithCopyWarning: \n",
      "A value is trying to be set on a copy of a slice from a DataFrame.\n",
      "Try using .loc[row_indexer,col_indexer] = value instead\n",
      "\n",
      "See the caveats in the documentation: https://pandas.pydata.org/pandas-docs/stable/user_guide/indexing.html#returning-a-view-versus-a-copy\n",
      "  df['predicted-is_ADE'] = 0\n",
      "C:\\Users\\yraj\\AppData\\Local\\Temp\\ipykernel_19528\\2907575497.py:6: SettingWithCopyWarning: \n",
      "A value is trying to be set on a copy of a slice from a DataFrame.\n",
      "Try using .loc[row_indexer,col_indexer] = value instead\n",
      "\n",
      "See the caveats in the documentation: https://pandas.pydata.org/pandas-docs/stable/user_guide/indexing.html#returning-a-view-versus-a-copy\n",
      "  df['predicted-is_ADE'] = 0\n"
     ]
    }
   ],
   "source": [
    "for _ in range(len(df)):\n",
    "    statement = df.reindex(columns=['statement'])[_ - 1:_]\n",
    "    output = model.predict(statement)\n",
    "\n",
    "    if output['generated_output'].find('not_ADE'):\n",
    "        df['predicted-is_ADE'] = 0\n",
    "    else:\n",
    "        df['predicted-is_ADE'] = 1\n",
    "        \n",
    "    # putting loop to sleep due to number of time a model can take input in 1 minute\n",
    "    time.sleep(20)"
   ]
  },
  {
   "cell_type": "code",
   "execution_count": 115,
   "id": "2f2aa3d2",
   "metadata": {
    "scrolled": true
   },
   "outputs": [
    {
     "data": {
      "text/html": [
       "<div>\n",
       "<style scoped>\n",
       "    .dataframe tbody tr th:only-of-type {\n",
       "        vertical-align: middle;\n",
       "    }\n",
       "\n",
       "    .dataframe tbody tr th {\n",
       "        vertical-align: top;\n",
       "    }\n",
       "\n",
       "    .dataframe thead th {\n",
       "        text-align: right;\n",
       "    }\n",
       "</style>\n",
       "<table border=\"1\" class=\"dataframe\">\n",
       "  <thead>\n",
       "    <tr style=\"text-align: right;\">\n",
       "      <th></th>\n",
       "      <th>statement</th>\n",
       "      <th>is_ADE</th>\n",
       "      <th>predicted-is_ADE</th>\n",
       "    </tr>\n",
       "  </thead>\n",
       "  <tbody>\n",
       "    <tr>\n",
       "      <th>0</th>\n",
       "      <td>Intravitreal triamcinolone may have had an inf...</td>\n",
       "      <td>1</td>\n",
       "      <td>0</td>\n",
       "    </tr>\n",
       "    <tr>\n",
       "      <th>1</th>\n",
       "      <td>It has been described most recently in patien...</td>\n",
       "      <td>0</td>\n",
       "      <td>0</td>\n",
       "    </tr>\n",
       "    <tr>\n",
       "      <th>2</th>\n",
       "      <td>Within twelve hours, his clinical state was s...</td>\n",
       "      <td>0</td>\n",
       "      <td>0</td>\n",
       "    </tr>\n",
       "    <tr>\n",
       "      <th>3</th>\n",
       "      <td>Celiprolol pneumonitis.</td>\n",
       "      <td>1</td>\n",
       "      <td>0</td>\n",
       "    </tr>\n",
       "    <tr>\n",
       "      <th>4</th>\n",
       "      <td>Echocardiogram showed normal left ventricular...</td>\n",
       "      <td>0</td>\n",
       "      <td>0</td>\n",
       "    </tr>\n",
       "  </tbody>\n",
       "</table>\n",
       "</div>"
      ],
      "text/plain": [
       "                                           statement  is_ADE  predicted-is_ADE\n",
       "0  Intravitreal triamcinolone may have had an inf...       1                 0\n",
       "1   It has been described most recently in patien...       0                 0\n",
       "2   Within twelve hours, his clinical state was s...       0                 0\n",
       "3                            Celiprolol pneumonitis.       1                 0\n",
       "4   Echocardiogram showed normal left ventricular...       0                 0"
      ]
     },
     "execution_count": 115,
     "metadata": {},
     "output_type": "execute_result"
    }
   ],
   "source": [
    "df"
   ]
  },
  {
   "cell_type": "code",
   "execution_count": 134,
   "id": "83e41c8a",
   "metadata": {},
   "outputs": [
    {
     "data": {
      "text/html": [
       "<div>\n",
       "<style scoped>\n",
       "    .dataframe tbody tr th:only-of-type {\n",
       "        vertical-align: middle;\n",
       "    }\n",
       "\n",
       "    .dataframe tbody tr th {\n",
       "        vertical-align: top;\n",
       "    }\n",
       "\n",
       "    .dataframe thead th {\n",
       "        text-align: right;\n",
       "    }\n",
       "</style>\n",
       "<table border=\"1\" class=\"dataframe\">\n",
       "  <thead>\n",
       "    <tr style=\"text-align: right;\">\n",
       "      <th>Predicted</th>\n",
       "      <th>0</th>\n",
       "    </tr>\n",
       "    <tr>\n",
       "      <th>Actual</th>\n",
       "      <th></th>\n",
       "    </tr>\n",
       "  </thead>\n",
       "  <tbody>\n",
       "    <tr>\n",
       "      <th>0</th>\n",
       "      <td>3</td>\n",
       "    </tr>\n",
       "    <tr>\n",
       "      <th>1</th>\n",
       "      <td>2</td>\n",
       "    </tr>\n",
       "  </tbody>\n",
       "</table>\n",
       "</div>"
      ],
      "text/plain": [
       "Predicted  0\n",
       "Actual      \n",
       "0          3\n",
       "1          2"
      ]
     },
     "execution_count": 134,
     "metadata": {},
     "output_type": "execute_result"
    }
   ],
   "source": [
    "confusion_matrix = pd.crosstab(df['is_ADE'], df['predicted-is_ADE'], rownames=['Actual'], colnames=['Predicted'])\n",
    "confusion_matrix"
   ]
  },
  {
   "cell_type": "markdown",
   "id": "a44936bb",
   "metadata": {},
   "source": [
    "Based on the above confusion matrix our model accuracy can be calculated with of (TP+TN)/(P+N) = %"
   ]
  },
  {
   "cell_type": "code",
   "execution_count": 99,
   "id": "8212488d",
   "metadata": {},
   "outputs": [],
   "source": [
    "# generating dataframe with output\n",
    "def generate_output_df(df):\n",
    "    model = mlflow.pyfunc.load_model(f\"models:/ade_llm_classifier/Production\")\n",
    "    for _ in range(len(df)):\n",
    "        statement = df.reindex(columns=['statement'])[_ - 1:_]\n",
    "        output = model.predict(statement)\n",
    "\n",
    "        if output['generated_output'].find('not_ADE'):\n",
    "            df['predicted-is_ADE'] = 0\n",
    "        else:\n",
    "            df['predicted-is_ADE'] = 1\n",
    "        \n",
    "        # putting loop to sleep due to number of time a model can take input in 1 minute\n",
    "        time.sleep(20)\n",
    "    return df"
   ]
  },
  {
   "cell_type": "code",
   "execution_count": 116,
   "id": "5453043f",
   "metadata": {},
   "outputs": [],
   "source": [
    "final_pd_df = generate_output_df(test_pd_df)"
   ]
  },
  {
   "cell_type": "code",
   "execution_count": null,
   "id": "bee5b4a6",
   "metadata": {},
   "outputs": [],
   "source": [
    "final_pd_df"
   ]
  },
  {
   "cell_type": "markdown",
   "id": "f85ec157",
   "metadata": {},
   "source": [
    "# Fine Tunined Model"
   ]
  },
  {
   "cell_type": "code",
   "execution_count": 4,
   "id": "61763574",
   "metadata": {},
   "outputs": [
    {
     "name": "stderr",
     "output_type": "stream",
     "text": [
      "2023/07/09 11:42:26 INFO mlflow.tracking.fluent: Experiment with name 'C:\\Users\\yraj\\Work\\POCs\\Drugs & Adverse Events\\ade_fine-tuned_llm_classifier' does not exist. Creating a new experiment.\n"
     ]
    }
   ],
   "source": [
    "# setting mlflow experiment\n",
    "_ = mlflow.set_experiment(f\"{config['base_path']}\\\\ade_fine-tuned_llm_classifier\")"
   ]
  },
  {
   "cell_type": "code",
   "execution_count": 21,
   "id": "f4725cb1",
   "metadata": {},
   "outputs": [],
   "source": [
    "### Defining MLflow wrapper for model\n",
    "class MLflowADEClassifier_FT(mlflow.pyfunc.PythonModel):\n",
    "    def __init__(self, model_name):\n",
    "        self.model = model_name\n",
    "    def predict(self, prompt):\n",
    "        res = openai.Completion.create(model=self.model, prompt=prompt, max_tokens=1, temperature=0)\n",
    "        return res['choices'][0]['text']"
   ]
  },
  {
   "cell_type": "code",
   "execution_count": 22,
   "id": "e9245f10",
   "metadata": {},
   "outputs": [],
   "source": [
    "model = MLflowADEClassifier_FT(config['fine_tuned_model'])"
   ]
  },
  {
   "cell_type": "code",
   "execution_count": 24,
   "id": "a3526ed4",
   "metadata": {},
   "outputs": [],
   "source": [
    "output = model.predict(prompt=test['prompt'][1])"
   ]
  },
  {
   "cell_type": "code",
   "execution_count": 25,
   "id": "0ab221c6",
   "metadata": {},
   "outputs": [
    {
     "data": {
      "text/plain": [
       "1"
      ]
     },
     "execution_count": 25,
     "metadata": {},
     "output_type": "execute_result"
    }
   ],
   "source": [
    "output.find('not')"
   ]
  },
  {
   "cell_type": "code",
   "execution_count": 13,
   "id": "0d0b571b",
   "metadata": {},
   "outputs": [],
   "source": [
    "test = pd.read_json(f\"{config['base_path']}/data/curie_fine_tuning_data/train_data_prepared_valid.jsonl\", lines=True)"
   ]
  },
  {
   "cell_type": "code",
   "execution_count": 14,
   "id": "cd6f0b1d",
   "metadata": {},
   "outputs": [
    {
     "data": {
      "text/html": [
       "<div>\n",
       "<style scoped>\n",
       "    .dataframe tbody tr th:only-of-type {\n",
       "        vertical-align: middle;\n",
       "    }\n",
       "\n",
       "    .dataframe tbody tr th {\n",
       "        vertical-align: top;\n",
       "    }\n",
       "\n",
       "    .dataframe thead th {\n",
       "        text-align: right;\n",
       "    }\n",
       "</style>\n",
       "<table border=\"1\" class=\"dataframe\">\n",
       "  <thead>\n",
       "    <tr style=\"text-align: right;\">\n",
       "      <th></th>\n",
       "      <th>prompt</th>\n",
       "      <th>completion</th>\n",
       "    </tr>\n",
       "  </thead>\n",
       "  <tbody>\n",
       "    <tr>\n",
       "      <th>0</th>\n",
       "      <td>Acute renal failure in a child associated with...</td>\n",
       "      <td>indicating adverse avent</td>\n",
       "    </tr>\n",
       "    <tr>\n",
       "      <th>1</th>\n",
       "      <td>Measured 25-hydroxyvitamin D (25-OH D) levels...</td>\n",
       "      <td>not indicating adverse avent</td>\n",
       "    </tr>\n",
       "    <tr>\n",
       "      <th>2</th>\n",
       "      <td>Oculomotor disturbances associated with 5-fluo...</td>\n",
       "      <td>indicating adverse avent</td>\n",
       "    </tr>\n",
       "    <tr>\n",
       "      <th>3</th>\n",
       "      <td>Pemphigus foliaceus was seen in a patient with...</td>\n",
       "      <td>indicating adverse avent</td>\n",
       "    </tr>\n",
       "    <tr>\n",
       "      <th>4</th>\n",
       "      <td>Topical thiotepa treatment for recurrent corn...</td>\n",
       "      <td>not indicating adverse avent</td>\n",
       "    </tr>\n",
       "  </tbody>\n",
       "</table>\n",
       "</div>"
      ],
      "text/plain": [
       "                                              prompt  \\\n",
       "0  Acute renal failure in a child associated with...   \n",
       "1   Measured 25-hydroxyvitamin D (25-OH D) levels...   \n",
       "2  Oculomotor disturbances associated with 5-fluo...   \n",
       "3  Pemphigus foliaceus was seen in a patient with...   \n",
       "4   Topical thiotepa treatment for recurrent corn...   \n",
       "\n",
       "                      completion  \n",
       "0       indicating adverse avent  \n",
       "1   not indicating adverse avent  \n",
       "2       indicating adverse avent  \n",
       "3       indicating adverse avent  \n",
       "4   not indicating adverse avent  "
      ]
     },
     "execution_count": 14,
     "metadata": {},
     "output_type": "execute_result"
    }
   ],
   "source": [
    "test.head()"
   ]
  },
  {
   "cell_type": "code",
   "execution_count": 34,
   "id": "13ccf48c",
   "metadata": {},
   "outputs": [
    {
     "data": {
      "text/plain": [
       "' Measured 25-hydroxyvitamin D (25-OH D) levels were elevated in three patients; levels were not determined in a fourth patient who became normocalcemic when vitamin D therapy was discontinued.'"
      ]
     },
     "execution_count": 34,
     "metadata": {},
     "output_type": "execute_result"
    }
   ],
   "source": [
    "test['prompt'][1]"
   ]
  },
  {
   "cell_type": "markdown",
   "id": "4b994d4a",
   "metadata": {},
   "source": [
    "#### Persisting Model to Mlflow"
   ]
  },
  {
   "cell_type": "code",
   "execution_count": 87,
   "id": "9fd85d62",
   "metadata": {},
   "outputs": [
    {
     "name": "stderr",
     "output_type": "stream",
     "text": [
      "2023/07/09 12:39:17 WARNING mlflow.utils.git_utils: Failed to import Git (the Git executable is probably not on your PATH), so Git SHA is not available. Error: Failed to initialize: Bad git executable.\n",
      "The git executable must be specified in one of the following ways:\n",
      "    - be included in your $PATH\n",
      "    - be set via $GIT_PYTHON_GIT_EXECUTABLE\n",
      "    - explicitly set via git.refresh()\n",
      "\n",
      "All git commands will error until this is rectified.\n",
      "\n",
      "This initial warning can be silenced or aggravated in the future by setting the\n",
      "$GIT_PYTHON_REFRESH environment variable. Use one of the following values:\n",
      "    - quiet|q|silence|s|none|n|0: for no warning or exception\n",
      "    - warn|w|warning|1: for a printed warning\n",
      "    - error|e|raise|r|2: for a raised exception\n",
      "\n",
      "Example:\n",
      "    export GIT_PYTHON_REFRESH=quiet\n",
      "\n",
      "Successfully registered model 'ade_fine-tuned_llm_classifier'.\n",
      "2023/07/09 12:39:30 INFO mlflow.tracking._model_registry.client: Waiting up to 300 seconds for model version to finish creation. Model name: ade_fine-tuned_llm_classifier, version 1\n",
      "Created version '1' of model 'ade_fine-tuned_llm_classifier'.\n"
     ]
    }
   ],
   "source": [
    "# persist model to mlflow\n",
    "with mlflow.start_run():\n",
    "  _ = (\n",
    "    mlflow.pyfunc.log_model(\n",
    "      python_model=model,\n",
    "      extra_pip_requirements=['openai==0.27.6', 'pandas==1.5.3'],\n",
    "      artifact_path='model',\n",
    "      registered_model_name='ade_fine-tuned_llm_classifier'\n",
    "      )\n",
    "    )"
   ]
  },
  {
   "cell_type": "markdown",
   "id": "8e6864c2",
   "metadata": {},
   "source": [
    "#### Elevate Model to Production Status"
   ]
  },
  {
   "cell_type": "code",
   "execution_count": 88,
   "id": "7c4cb95c",
   "metadata": {},
   "outputs": [
    {
     "data": {
      "text/plain": [
       "<ModelVersion: aliases=[], creation_timestamp=1688886570486, current_stage='Production', description=None, last_updated_timestamp=1688886619173, name='ade_fine-tuned_llm_classifier', run_id='5cd27d8ddbe5417ebd45c2e21c1fbf2f', run_link=None, source='file:///C:/Users/yraj/Work/POCs/Drugs%20%26%20Adverse%20Events/mlruns/256707723894783076/5cd27d8ddbe5417ebd45c2e21c1fbf2f/artifacts/model', status='READY', status_message=None, tags={}, user_id=None, version=1>"
      ]
     },
     "execution_count": 88,
     "metadata": {},
     "output_type": "execute_result"
    }
   ],
   "source": [
    "# connect to mlflow \n",
    "client = mlflow.MlflowClient()\n",
    " \n",
    "# identify latest model version\n",
    "latest_version = client.get_latest_versions('ade_fine-tuned_llm_classifier', stages=['None'])[0].version\n",
    " \n",
    "# move model into production\n",
    "client.transition_model_version_stage(\n",
    "    name='ade_fine-tuned_llm_classifier',\n",
    "    version=latest_version,\n",
    "    stage='Production',\n",
    "    archive_existing_versions=True\n",
    ")"
   ]
  },
  {
   "cell_type": "markdown",
   "id": "619c5219",
   "metadata": {},
   "source": [
    "#### Test Model"
   ]
  },
  {
   "cell_type": "code",
   "execution_count": 12,
   "id": "e998faf9",
   "metadata": {},
   "outputs": [
    {
     "name": "stderr",
     "output_type": "stream",
     "text": [
      "2023/07/10 09:41:08 WARNING mlflow.pyfunc: Detected one or more mismatches between the model's dependencies and the current Python environment:\n",
      " - mlflow (current: 2.4.1, required: mlflow==2.4)\n",
      " - openai (current: 0.27.8, required: openai==0.25.0)\n",
      " - openai (current: 0.27.8, required: openai==0.27.6)\n",
      "To fix the mismatches, call `mlflow.pyfunc.get_model_dependencies(model_uri)` to fetch the model's environment and install dependencies using the resulting environment file.\n"
     ]
    }
   ],
   "source": [
    "# retrieve model from mlflow\n",
    "model = mlflow.pyfunc.load_model(f\"models:/ade_fine-tuned_llm_classifier/Production\")"
   ]
  },
  {
   "cell_type": "code",
   "execution_count": 18,
   "id": "5bffb7b7",
   "metadata": {},
   "outputs": [
    {
     "ename": "TypeError",
     "evalue": "MLflowADEClassifier_FT.predict() takes 2 positional arguments but 3 were given",
     "output_type": "error",
     "traceback": [
      "\u001b[1;31m----------------------------------------------------------\u001b[0m",
      "\u001b[1;31mTypeError\u001b[0m                Traceback (most recent call last)",
      "Cell \u001b[1;32mIn[18], line 1\u001b[0m\n\u001b[1;32m----> 1\u001b[0m \u001b[43mmodel\u001b[49m\u001b[38;5;241;43m.\u001b[39;49m\u001b[43mpredict\u001b[49m\u001b[43m(\u001b[49m\u001b[38;5;28;43minput\u001b[39;49m\u001b[43m)\u001b[49m\n",
      "File \u001b[1;32m~\\AppData\\Local\\miniconda3\\envs\\pysprk\\lib\\site-packages\\mlflow\\pyfunc\\__init__.py:428\u001b[0m, in \u001b[0;36mPyFuncModel.predict\u001b[1;34m(self, data)\u001b[0m\n\u001b[0;32m    425\u001b[0m         \u001b[38;5;28;01mif\u001b[39;00m _MLFLOW_OPENAI_TESTING\u001b[38;5;241m.\u001b[39mget():\n\u001b[0;32m    426\u001b[0m             \u001b[38;5;28;01mraise\u001b[39;00m\n\u001b[1;32m--> 428\u001b[0m \u001b[38;5;28;01mreturn\u001b[39;00m \u001b[38;5;28;43mself\u001b[39;49m\u001b[38;5;241;43m.\u001b[39;49m\u001b[43m_predict_fn\u001b[49m\u001b[43m(\u001b[49m\u001b[43mdata\u001b[49m\u001b[43m)\u001b[49m\n",
      "File \u001b[1;32m~\\AppData\\Local\\miniconda3\\envs\\pysprk\\lib\\site-packages\\mlflow\\pyfunc\\model.py:365\u001b[0m, in \u001b[0;36m_PythonModelPyfuncWrapper.predict\u001b[1;34m(self, model_input)\u001b[0m\n\u001b[0;32m    364\u001b[0m \u001b[38;5;28;01mdef\u001b[39;00m \u001b[38;5;21mpredict\u001b[39m(\u001b[38;5;28mself\u001b[39m, model_input):\n\u001b[1;32m--> 365\u001b[0m     \u001b[38;5;28;01mreturn\u001b[39;00m \u001b[38;5;28;43mself\u001b[39;49m\u001b[38;5;241;43m.\u001b[39;49m\u001b[43mpython_model\u001b[49m\u001b[38;5;241;43m.\u001b[39;49m\u001b[43mpredict\u001b[49m\u001b[43m(\u001b[49m\u001b[38;5;28;43mself\u001b[39;49m\u001b[38;5;241;43m.\u001b[39;49m\u001b[43mcontext\u001b[49m\u001b[43m,\u001b[49m\u001b[43m \u001b[49m\u001b[38;5;28;43mself\u001b[39;49m\u001b[38;5;241;43m.\u001b[39;49m\u001b[43m_convert_input\u001b[49m\u001b[43m(\u001b[49m\u001b[43mmodel_input\u001b[49m\u001b[43m)\u001b[49m\u001b[43m)\u001b[49m\n",
      "\u001b[1;31mTypeError\u001b[0m: MLflowADEClassifier_FT.predict() takes 2 positional arguments but 3 were given"
     ]
    }
   ],
   "source": [
    "model.predict(input)"
   ]
  },
  {
   "cell_type": "markdown",
   "id": "85cebd12",
   "metadata": {},
   "source": [
    "## Seeing MLflow UI"
   ]
  },
  {
   "cell_type": "code",
   "execution_count": null,
   "id": "5bab9d32",
   "metadata": {},
   "outputs": [],
   "source": [
    "!mlflow ui"
   ]
  },
  {
   "cell_type": "markdown",
   "id": "eb487ada",
   "metadata": {},
   "source": [
    "open this url http://localhost:5000/ to see the mlflow ui"
   ]
  }
 ],
 "metadata": {
  "kernelspec": {
   "display_name": "Python 3 (ipykernel)",
   "language": "python",
   "name": "python3"
  },
  "language_info": {
   "codemirror_mode": {
    "name": "ipython",
    "version": 3
   },
   "file_extension": ".py",
   "mimetype": "text/x-python",
   "name": "python",
   "nbconvert_exporter": "python",
   "pygments_lexer": "ipython3",
   "version": "3.10.11"
  }
 },
 "nbformat": 4,
 "nbformat_minor": 5
}
