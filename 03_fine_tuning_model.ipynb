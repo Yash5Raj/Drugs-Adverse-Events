{
 "cells": [
  {
   "cell_type": "markdown",
   "id": "6085ede8",
   "metadata": {},
   "source": [
    "### Importing Libraries"
   ]
  },
  {
   "cell_type": "code",
   "execution_count": 1,
   "id": "87fbc3de",
   "metadata": {},
   "outputs": [],
   "source": [
    "from include.env_values import *\n",
    "# setting up environment\n",
    "os.environ[\"OPENAI_API_KEY\"] = openai_api_key\n",
    "with open('./include/config.json') as file:\n",
    "    config = json.load(file)"
   ]
  },
  {
   "cell_type": "code",
   "execution_count": 2,
   "id": "cac003db",
   "metadata": {},
   "outputs": [],
   "source": [
    "import time\n",
    "import pandas as pd\n",
    "import numpy as np\n",
    "# import seaborn as sns\n",
    "# import matplotlib.pyplot as plt\n",
    "import warnings\n",
    "import os\n",
    "import json\n",
    "\n",
    "# import pyspark\n",
    "from pyspark.sql import SparkSession\n",
    "from pyspark.sql import functions as F\n",
    "from pyspark.sql.types import *\n",
    "\n",
    "# import delta\n",
    "from delta import *\n",
    "\n",
    "warnings.filterwarnings(\"ignore\")\n",
    "pd.set_option(\"display.max_colwidth\",100)"
   ]
  },
  {
   "cell_type": "code",
   "execution_count": 3,
   "id": "f94669b7",
   "metadata": {},
   "outputs": [],
   "source": [
    "import openai"
   ]
  },
  {
   "cell_type": "markdown",
   "id": "95ced602",
   "metadata": {},
   "source": [
    "### Initializing Spark Session"
   ]
  },
  {
   "cell_type": "code",
   "execution_count": 3,
   "id": "a56e02ad",
   "metadata": {},
   "outputs": [],
   "source": [
    "spark = SparkSession.builder.getOrCreate()"
   ]
  },
  {
   "cell_type": "code",
   "execution_count": 4,
   "id": "89aff67b",
   "metadata": {},
   "outputs": [
    {
     "data": {
      "text/html": [
       "\n",
       "            <div>\n",
       "                <p><b>SparkSession - hive</b></p>\n",
       "                \n",
       "        <div>\n",
       "            <p><b>SparkContext</b></p>\n",
       "\n",
       "            <p><a href=\"http://INGNONB65617.insight.com:4040\">Spark UI</a></p>\n",
       "\n",
       "            <dl>\n",
       "              <dt>Version</dt>\n",
       "                <dd><code>v3.2.4</code></dd>\n",
       "              <dt>Master</dt>\n",
       "                <dd><code>local[*]</code></dd>\n",
       "              <dt>AppName</dt>\n",
       "                <dd><code>PySparkShell</code></dd>\n",
       "            </dl>\n",
       "        </div>\n",
       "        \n",
       "            </div>\n",
       "        "
      ],
      "text/plain": [
       "<pyspark.sql.session.SparkSession at 0x24e7d4362f0>"
      ]
     },
     "execution_count": 4,
     "metadata": {},
     "output_type": "execute_result"
    }
   ],
   "source": [
    "spark"
   ]
  },
  {
   "cell_type": "markdown",
   "id": "76c73fa1",
   "metadata": {},
   "source": [
    "### Importing Data"
   ]
  },
  {
   "cell_type": "code",
   "execution_count": 5,
   "id": "58ff2dac",
   "metadata": {},
   "outputs": [
    {
     "name": "stdout",
     "output_type": "stream",
     "text": [
      "+--------------------+--------------------+------+\n",
      "|                  id|                text|is_ADE|\n",
      "+--------------------+--------------------+------+\n",
      "|9e30ac5d-8f3d-456...| Its duration of ...| false|\n",
      "|e1b28265-fd24-4d7...| An angiogram sho...| false|\n",
      "|2bed409e-2f8f-488...| We report a 14-y...| false|\n",
      "|cde4ccbb-53c7-43c...| The objective of...| false|\n",
      "|75d85cf6-c386-48d...| Perforated appen...| false|\n",
      "+--------------------+--------------------+------+\n",
      "\n"
     ]
    }
   ],
   "source": [
    "ade_events_df=spark.read.load(f\"{config['delta_path']}/bronze/ade_events\").orderBy(F.rand(seed=42)).repartition(64).cache()\n",
    "ade_events_df.limit(5).show()"
   ]
  },
  {
   "cell_type": "code",
   "execution_count": null,
   "id": "bdaf3ecb",
   "metadata": {},
   "outputs": [],
   "source": [
    "categories = ['is_ADE', 'not_ADE']"
   ]
  },
  {
   "cell_type": "code",
   "execution_count": 24,
   "id": "67c2faf2",
   "metadata": {},
   "outputs": [
    {
     "data": {
      "text/html": [
       "<div>\n",
       "<style scoped>\n",
       "    .dataframe tbody tr th:only-of-type {\n",
       "        vertical-align: middle;\n",
       "    }\n",
       "\n",
       "    .dataframe tbody tr th {\n",
       "        vertical-align: top;\n",
       "    }\n",
       "\n",
       "    .dataframe thead th {\n",
       "        text-align: right;\n",
       "    }\n",
       "</style>\n",
       "<table border=\"1\" class=\"dataframe\">\n",
       "  <thead>\n",
       "    <tr style=\"text-align: right;\">\n",
       "      <th></th>\n",
       "      <th>Prompt</th>\n",
       "      <th>Completion</th>\n",
       "    </tr>\n",
       "  </thead>\n",
       "  <tbody>\n",
       "    <tr>\n",
       "      <th>0</th>\n",
       "      <td>The anatomy of the radial artery, the diagnosis of injury, and a treatment algorithm are presen...</td>\n",
       "      <td>sentence is not indicating adverse avent</td>\n",
       "    </tr>\n",
       "    <tr>\n",
       "      <th>1</th>\n",
       "      <td>Acute renal failure in a child associated with acyclovir.</td>\n",
       "      <td>sentence is indicating adverse avent</td>\n",
       "    </tr>\n",
       "    <tr>\n",
       "      <th>2</th>\n",
       "      <td>Treatment was started with heparin and vasodilators.</td>\n",
       "      <td>sentence is not indicating adverse avent</td>\n",
       "    </tr>\n",
       "    <tr>\n",
       "      <th>3</th>\n",
       "      <td>Phenytoin levels were measured and found to be grossly elevated at 170 mmol/L.</td>\n",
       "      <td>sentence is not indicating adverse avent</td>\n",
       "    </tr>\n",
       "    <tr>\n",
       "      <th>4</th>\n",
       "      <td>Two elderly women suffered an acute deterioration of renal function after treatment with cefoxit...</td>\n",
       "      <td>sentence is indicating adverse avent</td>\n",
       "    </tr>\n",
       "    <tr>\n",
       "      <th>...</th>\n",
       "      <td>...</td>\n",
       "      <td>...</td>\n",
       "    </tr>\n",
       "    <tr>\n",
       "      <th>195</th>\n",
       "      <td>Surprisingly, we found that three patients appeared to develop tardive OGC while taking clozapine.</td>\n",
       "      <td>sentence is indicating adverse avent</td>\n",
       "    </tr>\n",
       "    <tr>\n",
       "      <th>196</th>\n",
       "      <td>Long-term clinical and pharmacokinetic studies will be required to determine whether or not nif...</td>\n",
       "      <td>sentence is not indicating adverse avent</td>\n",
       "    </tr>\n",
       "    <tr>\n",
       "      <th>197</th>\n",
       "      <td>When DSCG was withdrawn, urticaria vanished and the child remained symptom-free.</td>\n",
       "      <td>sentence is indicating adverse avent</td>\n",
       "    </tr>\n",
       "    <tr>\n",
       "      <th>198</th>\n",
       "      <td>To the best of our knowledge, this patient is the youngest, and only the fourth person in the E...</td>\n",
       "      <td>sentence is not indicating adverse avent</td>\n",
       "    </tr>\n",
       "    <tr>\n",
       "      <th>199</th>\n",
       "      <td>Flucloxacillin-induced aplastic anaemia and liver failure.</td>\n",
       "      <td>sentence is indicating adverse avent</td>\n",
       "    </tr>\n",
       "  </tbody>\n",
       "</table>\n",
       "<p>200 rows × 2 columns</p>\n",
       "</div>"
      ],
      "text/plain": [
       "                                                                                                  Prompt  \\\n",
       "0     The anatomy of the radial artery, the diagnosis of injury, and a treatment algorithm are presen...   \n",
       "1                                              Acute renal failure in a child associated with acyclovir.   \n",
       "2                                                   Treatment was started with heparin and vasodilators.   \n",
       "3                         Phenytoin levels were measured and found to be grossly elevated at 170 mmol/L.   \n",
       "4    Two elderly women suffered an acute deterioration of renal function after treatment with cefoxit...   \n",
       "..                                                                                                   ...   \n",
       "195   Surprisingly, we found that three patients appeared to develop tardive OGC while taking clozapine.   \n",
       "196   Long-term clinical and pharmacokinetic studies will be required to determine whether or not nif...   \n",
       "197                     When DSCG was withdrawn, urticaria vanished and the child remained symptom-free.   \n",
       "198   To the best of our knowledge, this patient is the youngest, and only the fourth person in the E...   \n",
       "199                                           Flucloxacillin-induced aplastic anaemia and liver failure.   \n",
       "\n",
       "                                   Completion  \n",
       "0    sentence is not indicating adverse avent  \n",
       "1        sentence is indicating adverse avent  \n",
       "2    sentence is not indicating adverse avent  \n",
       "3    sentence is not indicating adverse avent  \n",
       "4        sentence is indicating adverse avent  \n",
       "..                                        ...  \n",
       "195      sentence is indicating adverse avent  \n",
       "196  sentence is not indicating adverse avent  \n",
       "197      sentence is indicating adverse avent  \n",
       "198  sentence is not indicating adverse avent  \n",
       "199      sentence is indicating adverse avent  \n",
       "\n",
       "[200 rows x 2 columns]"
      ]
     },
     "execution_count": 24,
     "metadata": {},
     "output_type": "execute_result"
    }
   ],
   "source": [
    "# getting a data set\n",
    "train_df = ade_events_df.filter('is_ADE==True').limit(80).union(ade_events_df.filter('is_ADE==False').limit(120)).orderBy(F.rand()).withColumn('is_ADE', F.when(F.col('is_ADE')=='true', \"sentence is indicating adverse avent\").otherwise(\"sentence is not indicating adverse avent\")).selectExpr(\"text as Prompt\", \"is_ADE as Completion\").toPandas()\n",
    "train_df"
   ]
  },
  {
   "cell_type": "markdown",
   "id": "3becf374",
   "metadata": {},
   "source": [
    "#### We will fine-tune an ada classifier to distinguish between the two classes"
   ]
  },
  {
   "cell_type": "markdown",
   "id": "25c9c9f0",
   "metadata": {},
   "source": [
    "Saving data in '.jsonl' format, now data will look like this:\n",
    "\n",
    "\n",
    "{\"Prompt\":\" The anatomy of the radial artery, the diagnosis of injury, and a treatment algorithm are presented so that potential devastating hand complications can be avoided.\",\"Completion\":\"sentence is not indicating adverse avent\"}"
   ]
  },
  {
   "cell_type": "code",
   "execution_count": 27,
   "id": "6cfaaab0",
   "metadata": {},
   "outputs": [],
   "source": [
    "train_df.to_json(\"./data/ada_fine_tuning_data/train_data.jsonl\", orient='records', lines = True)"
   ]
  },
  {
   "cell_type": "markdown",
   "id": "7be55de6",
   "metadata": {},
   "source": [
    "Donwloading and initializing data preparation tool for making our dataset more better"
   ]
  },
  {
   "cell_type": "code",
   "execution_count": 28,
   "id": "96894157",
   "metadata": {},
   "outputs": [
    {
     "name": "stderr",
     "output_type": "stream",
     "text": [
      "WARNING: Ignoring invalid distribution -yspark (c:\\users\\yraj\\appdata\\local\\miniconda3\\envs\\pysprk\\lib\\site-packages)\n",
      "ERROR: Could not find a version that satisfies the requirement opanai (from versions: none)\n",
      "ERROR: No matching distribution found for opanai\n"
     ]
    }
   ],
   "source": [
    "!pip install --upgrade opanai"
   ]
  },
  {
   "cell_type": "code",
   "execution_count": 29,
   "id": "a351ff1e",
   "metadata": {},
   "outputs": [
    {
     "name": "stdout",
     "output_type": "stream",
     "text": [
      "Analyzing...\n",
      "\n",
      "- Your file contains 200 prompt-completion pairs\n",
      "- The `prompt` column/key should be lowercase\n",
      "- The `completion` column/key should be lowercase\n",
      "- Based on your data it seems like you're trying to fine-tune a model for classification\n",
      "- For classification, we recommend you try one of the faster and cheaper models, such as `ada`\n",
      "- For classification, you can estimate the expected model performance by keeping a held out dataset, which is not used for training\n",
      "- All prompts end with suffix `.`\n",
      "  WARNING: Some of your prompts contain the suffix `.` more than once. We strongly suggest that you review your prompts and add a unique suffix\n",
      "- All completions start with prefix `sentence is `. Most of the time you should only add the output data into the completion, without any prefix\n",
      "- The completion should start with a whitespace character (` `). This tends to produce better results due to the tokenization we use. See https://platform.openai.com/docs/guides/fine-tuning/preparing-your-dataset for more details\n",
      "\n",
      "Based on the analysis we will perform the following actions:\n",
      "- [Necessary] Lower case column name to `prompt`\n",
      "- [Necessary] Lower case column name to `completion`\n",
      "- [Recommended] Remove prefix `sentence is ` from all completions [Y/n]: Y\n",
      "- [Recommended] Add a whitespace character to the beginning of the completion [Y/n]: Y\n",
      "- [Recommended] Would you like to split into training and validation set? [Y/n]: Y\n",
      "\n",
      "\n",
      "Your data will be written to a new JSONL file. Proceed [Y/n]: Y\n",
      "\n",
      "Wrote modified files to `.\\data\\ada_fine_tuning_data\\train_data_prepared_train.jsonl` and `.\\data\\ada_fine_tuning_data\\train_data_prepared_valid.jsonl`\n",
      "Feel free to take a look!\n",
      "\n",
      "Now use that file when fine-tuning:\n",
      "> openai api fine_tunes.create -t \".\\data\\ada_fine_tuning_data\\train_data_prepared_train.jsonl\" -v \".\\data\\ada_fine_tuning_data\\train_data_prepared_valid.jsonl\" --compute_classification_metrics --classification_positive_class \" not indicating adverse avent\"\n",
      "\n",
      "After you’ve fine-tuned a model, remember that your prompt has to end with the indicator string `.` for the model to start generating completions, rather than continuing with the prompt. Make sure to include `stop=[\" indicating adverse avent\"]` so that the generated texts ends at the expected place.\n",
      "Once your model starts training, it'll approximately take 7.13 minutes to train a `curie` model, and less for `ada` and `babbage`. Queue will approximately take half an hour per job ahead of you.\n"
     ]
    }
   ],
   "source": [
    "!openai tools fine_tunes.prepare_data -f \".\\data\\ada_fine_tuning_data\\train_data.jsonl\" -q"
   ]
  },
  {
   "cell_type": "markdown",
   "id": "0e05450a",
   "metadata": {},
   "source": [
    "## Fine Tuning"
   ]
  },
  {
   "cell_type": "code",
   "execution_count": null,
   "id": "1c059fd9",
   "metadata": {},
   "outputs": [],
   "source": [
    "!openai api fine_tunes.create -t \".\\data\\ada_fine_tuning_data\\train_data_prepared_train.jsonl\" -v \".\\data\\ada_fine_tuning_data\\train_data_prepared_valid.jsonl\" --compute_classification_metrics --classification_positive_class \" not indicating adverse avent\" -m ada"
   ]
  },
  {
   "cell_type": "markdown",
   "id": "74b2020e",
   "metadata": {},
   "source": [
    "<img src = \"C:\\Users\\yraj\\Work\\POCs\\Drugs & Adverse Events\\images\\fine_tuning_complete_CURIE.jpg\">"
   ]
  },
  {
   "cell_type": "markdown",
   "id": "ab4e6ab7",
   "metadata": {},
   "source": [
    "### Results and expected model performance"
   ]
  },
  {
   "cell_type": "code",
   "execution_count": null,
   "id": "14560497",
   "metadata": {},
   "outputs": [],
   "source": [
    "!openai api fine_tunes.results -i ft-46VvI5xSR0sriZmIKcHFSbxr > result.csv"
   ]
  },
  {
   "cell_type": "code",
   "execution_count": 6,
   "id": "97f47237",
   "metadata": {},
   "outputs": [],
   "source": [
    "results = pd.read_csv(f\"{config['base_path']}/data/curie_fine_tuning_data/result.csv\")"
   ]
  },
  {
   "cell_type": "code",
   "execution_count": 7,
   "id": "2225353d",
   "metadata": {},
   "outputs": [
    {
     "data": {
      "text/html": [
       "<div>\n",
       "<style scoped>\n",
       "    .dataframe tbody tr th:only-of-type {\n",
       "        vertical-align: middle;\n",
       "    }\n",
       "\n",
       "    .dataframe tbody tr th {\n",
       "        vertical-align: top;\n",
       "    }\n",
       "\n",
       "    .dataframe thead th {\n",
       "        text-align: right;\n",
       "    }\n",
       "</style>\n",
       "<table border=\"1\" class=\"dataframe\">\n",
       "  <thead>\n",
       "    <tr style=\"text-align: right;\">\n",
       "      <th></th>\n",
       "      <th>step</th>\n",
       "      <th>elapsed_tokens</th>\n",
       "      <th>elapsed_examples</th>\n",
       "      <th>training_loss</th>\n",
       "      <th>training_sequence_accuracy</th>\n",
       "      <th>training_token_accuracy</th>\n",
       "      <th>validation_loss</th>\n",
       "      <th>validation_sequence_accuracy</th>\n",
       "      <th>validation_token_accuracy</th>\n",
       "      <th>classification/accuracy</th>\n",
       "      <th>classification/precision</th>\n",
       "      <th>classification/recall</th>\n",
       "      <th>classification/auroc</th>\n",
       "      <th>classification/auprc</th>\n",
       "      <th>classification/f1.0</th>\n",
       "    </tr>\n",
       "  </thead>\n",
       "  <tbody>\n",
       "    <tr>\n",
       "      <th>640</th>\n",
       "      <td>641</td>\n",
       "      <td>22377</td>\n",
       "      <td>641</td>\n",
       "      <td>0.010052</td>\n",
       "      <td>1.0</td>\n",
       "      <td>1.0</td>\n",
       "      <td>0.010431</td>\n",
       "      <td>1.0</td>\n",
       "      <td>1.0</td>\n",
       "      <td>1.0</td>\n",
       "      <td>1.0</td>\n",
       "      <td>1.0</td>\n",
       "      <td>1.0</td>\n",
       "      <td>1.0</td>\n",
       "      <td>1.0</td>\n",
       "    </tr>\n",
       "  </tbody>\n",
       "</table>\n",
       "</div>"
      ],
      "text/plain": [
       "     step  elapsed_tokens  elapsed_examples  training_loss  \\\n",
       "640   641           22377               641       0.010052   \n",
       "\n",
       "     training_sequence_accuracy  training_token_accuracy  validation_loss  \\\n",
       "640                         1.0                      1.0         0.010431   \n",
       "\n",
       "     validation_sequence_accuracy  validation_token_accuracy  \\\n",
       "640                           1.0                        1.0   \n",
       "\n",
       "     classification/accuracy  classification/precision  classification/recall  \\\n",
       "640                      1.0                       1.0                    1.0   \n",
       "\n",
       "     classification/auroc  classification/auprc  classification/f1.0  \n",
       "640                   1.0                   1.0                  1.0  "
      ]
     },
     "execution_count": 7,
     "metadata": {},
     "output_type": "execute_result"
    }
   ],
   "source": [
    "results[results['classification/accuracy'].notnull()].tail(1)"
   ]
  },
  {
   "cell_type": "code",
   "execution_count": 8,
   "id": "ebfc8419",
   "metadata": {},
   "outputs": [
    {
     "data": {
      "text/plain": [
       "<Axes: >"
      ]
     },
     "execution_count": 8,
     "metadata": {},
     "output_type": "execute_result"
    },
    {
     "data": {
      "image/png": "[encoded data removed]",
      "text/plain": [
       "<Figure size 640x480 with 1 Axes>"
      ]
     },
     "metadata": {},
     "output_type": "display_data"
    }
   ],
   "source": [
    "results[results['classification/accuracy'].notnull()]['classification/accuracy'].plot()"
   ]
  },
  {
   "cell_type": "markdown",
   "id": "3ff87247",
   "metadata": {},
   "source": [
    "### Using the model"
   ]
  },
  {
   "cell_type": "code",
   "execution_count": 10,
   "id": "ed9c35ac",
   "metadata": {},
   "outputs": [],
   "source": [
    "test = pd.read_json(f\"{config['base_path']}/data/curie_fine_tuning_data/train_data_prepared_valid.jsonl\", lines=True)"
   ]
  },
  {
   "cell_type": "code",
   "execution_count": 11,
   "id": "d44ef652",
   "metadata": {},
   "outputs": [
    {
     "data": {
      "text/html": [
       "<div>\n",
       "<style scoped>\n",
       "    .dataframe tbody tr th:only-of-type {\n",
       "        vertical-align: middle;\n",
       "    }\n",
       "\n",
       "    .dataframe tbody tr th {\n",
       "        vertical-align: top;\n",
       "    }\n",
       "\n",
       "    .dataframe thead th {\n",
       "        text-align: right;\n",
       "    }\n",
       "</style>\n",
       "<table border=\"1\" class=\"dataframe\">\n",
       "  <thead>\n",
       "    <tr style=\"text-align: right;\">\n",
       "      <th></th>\n",
       "      <th>prompt</th>\n",
       "      <th>completion</th>\n",
       "    </tr>\n",
       "  </thead>\n",
       "  <tbody>\n",
       "    <tr>\n",
       "      <th>0</th>\n",
       "      <td>Acute renal failure in a child associated with acyclovir.</td>\n",
       "      <td>indicating adverse avent</td>\n",
       "    </tr>\n",
       "    <tr>\n",
       "      <th>1</th>\n",
       "      <td>Measured 25-hydroxyvitamin D (25-OH D) levels were elevated in three patients; levels were not ...</td>\n",
       "      <td>not indicating adverse avent</td>\n",
       "    </tr>\n",
       "    <tr>\n",
       "      <th>2</th>\n",
       "      <td>Oculomotor disturbances associated with 5-fluorouracil chemotherapy.</td>\n",
       "      <td>indicating adverse avent</td>\n",
       "    </tr>\n",
       "    <tr>\n",
       "      <th>3</th>\n",
       "      <td>Pemphigus foliaceus was seen in a patient with pulmonary tuberculosis during rifampicin therapy.</td>\n",
       "      <td>indicating adverse avent</td>\n",
       "    </tr>\n",
       "    <tr>\n",
       "      <th>4</th>\n",
       "      <td>Topical thiotepa treatment for recurrent corneal haze after photorefractive keratectomy.</td>\n",
       "      <td>not indicating adverse avent</td>\n",
       "    </tr>\n",
       "  </tbody>\n",
       "</table>\n",
       "</div>"
      ],
      "text/plain": [
       "                                                                                                prompt  \\\n",
       "0                                            Acute renal failure in a child associated with acyclovir.   \n",
       "1   Measured 25-hydroxyvitamin D (25-OH D) levels were elevated in three patients; levels were not ...   \n",
       "2                                 Oculomotor disturbances associated with 5-fluorouracil chemotherapy.   \n",
       "3     Pemphigus foliaceus was seen in a patient with pulmonary tuberculosis during rifampicin therapy.   \n",
       "4             Topical thiotepa treatment for recurrent corneal haze after photorefractive keratectomy.   \n",
       "\n",
       "                      completion  \n",
       "0       indicating adverse avent  \n",
       "1   not indicating adverse avent  \n",
       "2       indicating adverse avent  \n",
       "3       indicating adverse avent  \n",
       "4   not indicating adverse avent  "
      ]
     },
     "execution_count": 11,
     "metadata": {},
     "output_type": "execute_result"
    }
   ],
   "source": [
    "test.head()"
   ]
  },
  {
   "cell_type": "code",
   "execution_count": 17,
   "id": "7af14561",
   "metadata": {},
   "outputs": [
    {
     "data": {
      "text/plain": [
       "' indicating'"
      ]
     },
     "execution_count": 17,
     "metadata": {},
     "output_type": "execute_result"
    }
   ],
   "source": [
    "ft_model = 'curie:ft-personal-2023-07-07-14-13-35'\n",
    "res = openai.Completion.create(model=ft_model, prompt=test['prompt'][0], max_tokens=1, temperature=0)\n",
    "res['choices'][0]['text']"
   ]
  },
  {
   "cell_type": "code",
   "execution_count": 35,
   "id": "ae21f6ba",
   "metadata": {},
   "outputs": [
    {
     "data": {
      "text/plain": [
       "' Measured 25-hydroxyvitamin D (25-OH D) levels were elevated in three patients; levels were not determined in a fourth patient who became normocalcemic when vitamin D therapy was discontinued.'"
      ]
     },
     "execution_count": 35,
     "metadata": {},
     "output_type": "execute_result"
    }
   ],
   "source": [
    "test['prompt'][1]"
   ]
  },
  {
   "cell_type": "markdown",
   "id": "bf728e05",
   "metadata": {},
   "source": [
    "#### Adding name to 'config.json' file"
   ]
  },
  {
   "cell_type": "code",
   "execution_count": 26,
   "id": "52c95a4b",
   "metadata": {},
   "outputs": [],
   "source": [
    "config[\"fine_tuned_model\"] = \"curie:ft-personal-2023-07-07-14-13-35\""
   ]
  },
  {
   "cell_type": "code",
   "execution_count": 29,
   "id": "6f7758f1",
   "metadata": {},
   "outputs": [],
   "source": [
    "with open('./include/config.json', 'w') as file:\n",
    "    json.dump(config, file)"
   ]
  }
 ],
 "metadata": {
  "kernelspec": {
   "display_name": "Python 3 (ipykernel)",
   "language": "python",
   "name": "python3"
  },
  "language_info": {
   "codemirror_mode": {
    "name": "ipython",
    "version": 3
   },
   "file_extension": ".py",
   "mimetype": "text/x-python",
   "name": "python",
   "nbconvert_exporter": "python",
   "pygments_lexer": "ipython3",
   "version": "3.10.11"
  }
 },
 "nbformat": 4,
 "nbformat_minor": 5
}
